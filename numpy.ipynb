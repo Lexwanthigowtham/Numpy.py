{
 "cells": [
  {
   "cell_type": "code",
   "execution_count": null,
   "id": "395e4efc-06f7-4143-ae66-c7142132b74f",
   "metadata": {},
   "outputs": [],
   "source": [
    "#1.PYTHON LIBRARY:\n",
    "'''Normally, a library is a collection of books or is a room or place where many books are stored to be used later. \n",
    "Similarly, in the programming world, a library is a collection of precompiled codes that can be used later on in a program \n",
    "for some specific well-defined operations. Other than pre-compiled codes, a library may contain documentation,\n",
    "configuration data, message templates, classes, and values, etc.\n",
    "\n",
    "A Python library is a collection of related modules. \n",
    "It contains bundles of code that can be used repeatedly in different programs. \n",
    "It makes Python Programming simpler and convenient for the programmer.\n",
    "As we don’t need to write the same code again and again for different programs. \n",
    "Python libraries play a very vital role in fields of Machine Learning, Data Science, Data Visualization, etc.'''\n",
    "\n",
    "#USES:\n",
    "'''As we write large-size programs in Python, we want to maintain the code’s modularity.\n",
    "For the easy maintenance of the code, we split the code into different parts and we can use that code later ever we need it.\n",
    "In Python, modules play that part. Instead of using the same code in different programs and making the code complex,\n",
    "we define mostly used functions in modules and we can just simply import them in a program wherever there is a requirement.\n",
    "We don’t need to write that code but still, we can use its functionality by importing its module.\n",
    "Multiple interrelated modules are stored in a library. And whenever we need to use a module, we import it from its library. \n",
    "In Python, it’s a very simple job to do due to its easy syntax. We just need to use import.'''"
   ]
  },
  {
   "cell_type": "code",
   "execution_count": null,
   "id": "523108cc-411c-42b3-8cb1-2615462be5fd",
   "metadata": {},
   "outputs": [],
   "source": [
    "#2.PYTHON LIST:\n",
    "\n",
    "'''A Python list is a collection that is ordered and changeable. In Python, lists are written with square brackets. \n",
    "\n",
    "Some important points about Python Lists:\n",
    "\n",
    "The list can be homogeneous or heterogeneous.\n",
    "Element-wise operation is not possible on the list.\n",
    "Python list is by default 1-dimensional. But we can create an N-Dimensional list. But then too it will be 1 D list storing another 1D list\n",
    "Elements of a list need not be contiguous in memory.\n",
    "\n",
    "#PYTHON NUMPY:\n",
    "NumPy is the fundamental package for scientific computing in Python. Numpy arrays facilitate advanced mathematical\n",
    "and other types of operations on large numbers of data. \n",
    "Typically, such operations are executed more efficiently and with less code than is possible using Python’s built-in sequences.\n",
    "Numpy is not another programming language but a Python extension module. It provides fast and efficient\n",
    "operations on arrays of homogeneous data. \n",
    "\n",
    "Some important points about Numpy arrays:\n",
    "\n",
    "We can create an N-dimensional array in Python using Numpy.array().\n",
    "The array is by default Homogeneous, which means data inside an array must be of the same Datatype.\n",
    "(Note You can also create a structured array in Python).\n",
    "Element-wise operation is possible.\n",
    "Numpy array has various functions, methods, and variables, to ease our task of matrix computation.\n",
    "Elements of an array are stored contiguously in memory. For example, all rows of a two-dimensioned array must have\n",
    "the same number of columns. A three-dimensional array must have the same number of rows and columns on each card.'''\n"
   ]
  },
  {
   "cell_type": "code",
   "execution_count": 4,
   "id": "a3a174bf-f068-4d75-8642-fc35cbb9aafc",
   "metadata": {},
   "outputs": [
    {
     "name": "stdout",
     "output_type": "stream",
     "text": [
      "[[1, 2, 3, 4], [5, 6, 7, 8], [9, 10, 11, 12]]\n",
      "12\n",
      "(3, 4)\n",
      "2D Numpy Array\n",
      "[[ 1  2  3  4]\n",
      " [ 5  6  7  8]\n",
      " [ 9 10 11 12]]\n"
     ]
    }
   ],
   "source": [
    "#3.SIZE,SHAPE,DIMENSION\n",
    "import numpy as np\n",
    "data = [[1, 2, 3, 4], [5, 6, 7, 8], [9, 10, 11, 12]]\n",
    "arrData = np.array(data)\n",
    "\n",
    "print(data)\n",
    "print(arrData.size)\n",
    "print(arrData.shape)\n",
    "\n",
    "arr2D = np.array([[1, 2, 3, 4], [5, 6, 7, 8], [9, 10, 11, 12]])\n",
    "print('2D Numpy Array')\n",
    "print(arr2D)\n"
   ]
  },
  {
   "cell_type": "code",
   "execution_count": 10,
   "id": "030fae16-bf3d-4471-b84b-b874f02321c3",
   "metadata": {},
   "outputs": [
    {
     "data": {
      "text/html": [
       "<div>\n",
       "<style scoped>\n",
       "    .dataframe tbody tr th:only-of-type {\n",
       "        vertical-align: middle;\n",
       "    }\n",
       "\n",
       "    .dataframe tbody tr th {\n",
       "        vertical-align: top;\n",
       "    }\n",
       "\n",
       "    .dataframe thead th {\n",
       "        text-align: right;\n",
       "    }\n",
       "</style>\n",
       "<table border=\"1\" class=\"dataframe\">\n",
       "  <thead>\n",
       "    <tr style=\"text-align: right;\">\n",
       "      <th></th>\n",
       "      <th>A</th>\n",
       "      <th>B</th>\n",
       "      <th>C</th>\n",
       "    </tr>\n",
       "  </thead>\n",
       "  <tbody>\n",
       "    <tr>\n",
       "      <th>0</th>\n",
       "      <td>1</td>\n",
       "      <td>2</td>\n",
       "      <td>1</td>\n",
       "    </tr>\n",
       "    <tr>\n",
       "      <th>1</th>\n",
       "      <td>1</td>\n",
       "      <td>3</td>\n",
       "      <td>2</td>\n",
       "    </tr>\n",
       "    <tr>\n",
       "      <th>2</th>\n",
       "      <td>4</td>\n",
       "      <td>6</td>\n",
       "      <td>3</td>\n",
       "    </tr>\n",
       "    <tr>\n",
       "      <th>3</th>\n",
       "      <td>4</td>\n",
       "      <td>3</td>\n",
       "      <td>4</td>\n",
       "    </tr>\n",
       "    <tr>\n",
       "      <th>4</th>\n",
       "      <td>5</td>\n",
       "      <td>4</td>\n",
       "      <td>5</td>\n",
       "    </tr>\n",
       "  </tbody>\n",
       "</table>\n",
       "</div>"
      ],
      "text/plain": [
       "   A  B  C\n",
       "0  1  2  1\n",
       "1  1  3  2\n",
       "2  4  6  3\n",
       "3  4  3  4\n",
       "4  5  4  5"
      ]
     },
     "execution_count": 10,
     "metadata": {},
     "output_type": "execute_result"
    }
   ],
   "source": [
    "#4.\n",
    "import pandas as pd\n",
    "\n",
    "df = pd.DataFrame([\n",
    "            [1, 2, 1], [1, 3, 2], [4, 6, 3], [4, 3, 4], [5, 4, 5]\n",
    "        ], columns=['A', 'B', 'C'])\n",
    "\n",
    "df"
   ]
  },
  {
   "cell_type": "code",
   "execution_count": 11,
   "id": "1fe873a3-878a-40c6-85a7-9c08261a2b39",
   "metadata": {},
   "outputs": [
    {
     "name": "stdout",
     "output_type": "stream",
     "text": [
      "[ 3  7 11]\n"
     ]
    }
   ],
   "source": [
    "#5.\n",
    "import numpy as np\n",
    " \n",
    "arr = np.array([[1, 2, 3, 4], [5, 6, 7, 8], [9, 10, 11, 12]])\n",
    " \n",
    "# Access the ith column of a 2D NumPy array\n",
    "column_i = arr.T[2]\n",
    " \n",
    "#printing the column\n",
    "print(column_i)"
   ]
  },
  {
   "cell_type": "code",
   "execution_count": 16,
   "id": "17bfa344-5121-466a-8220-358e05b71aeb",
   "metadata": {},
   "outputs": [
    {
     "name": "stdout",
     "output_type": "stream",
     "text": [
      "The original list is : [1, 2, 3, 4, 5, 6, 7, 8, 9, 10, 11, 12]\n",
      "Indices list Odd elements is : [0, 2, 4, 6, 8, 10]\n"
     ]
    }
   ],
   "source": [
    "#6.\n",
    "test_list = [1, 2, 3, 4, 5, 6, 7, 8, 9, 10, 11, 12] \n",
    " \n",
    "# printing original list \n",
    "print(\"The original list is : \" + str(test_list)) \n",
    " \n",
    "# Odd elements indices\n",
    "# using loop \n",
    "res = [] \n",
    "for idx, ele in enumerate(test_list): \n",
    "    if ele % 2 != 0: \n",
    "        res.append(idx) \n",
    "         \n",
    "# printing result \n",
    "print(\"Indices list Odd elements is : \" + str(res)) "
   ]
  },
  {
   "cell_type": "code",
   "execution_count": null,
   "id": "eeecfebd-cc4c-4674-8487-df1df7702656",
   "metadata": {},
   "outputs": [],
   "source": [
    "#7. How can you generate a ran^om 3x3 matrix with values between 0 an^\n",
    "'''Generate sequence of values (in some range) you would like to randomly select into matrix.\n",
    "Take randomly some number of elements from this sequence to new sequence.\n",
    "From this new sequence make matrix with wanted shape.\n",
    "import numpy as np\n",
    "from random import sample\n",
    "\n",
    "#step one\n",
    "values = range(0,11)\n",
    "#step two\n",
    "random_sequence = sample(values, 9)\n",
    "#step three\n",
    "random_matrix = np.array(random_sequence).reshape(3,3)'''"
   ]
  },
  {
   "cell_type": "code",
   "execution_count": null,
   "id": "cf65227a-e3b7-46a3-9ba5-46af5b56cce1",
   "metadata": {},
   "outputs": [],
   "source": [
    "#8.\n",
    "'''In summary, while both np.random.rand() and np.random.randn() are used for generating random numbers in NumPy,\n",
    "they operate differently and serve different purposes. np.random.rand() produces random numbers\n",
    "from a uniform distribution over the interval [0, 1), while np.random.randn()\n",
    "generates random numbers from a standard normal distribution.'''"
   ]
  },
  {
   "cell_type": "code",
   "execution_count": 1,
   "id": "a0e285af-452c-4c42-9f8b-92a8956e709a",
   "metadata": {},
   "outputs": [
    {
     "name": "stdout",
     "output_type": "stream",
     "text": [
      "Initialised array\n",
      "[1 2 3 4]\n",
      "current shape of the array\n",
      "(4,)\n",
      "changing shape to 2,2\n",
      "[[1 2]\n",
      " [3 4]]\n"
     ]
    }
   ],
   "source": [
    "#9.changing dimension\n",
    "import numpy as np\n",
    " \n",
    " \n",
    "def main():\n",
    " \n",
    "    # initialising array\n",
    "    print('Initialised array')\n",
    "    gfg = np.array([1, 2, 3, 4])\n",
    "    print(gfg)\n",
    " \n",
    "    # checking current shape\n",
    "    print('current shape of the array')\n",
    "    print(gfg.shape)\n",
    "     \n",
    "    # modifying array according to new dimensions\n",
    "    print('changing shape to 2,2')\n",
    "    gfg.shape = (2, 2)\n",
    "    print(gfg)\n",
    " \n",
    "if __name__ == \"__main__\":\n",
    "    main()"
   ]
  },
  {
   "cell_type": "code",
   "execution_count": 3,
   "id": "b82852e7-e211-411b-a3fc-3de46c8f5ed7",
   "metadata": {},
   "outputs": [
    {
     "name": "stdout",
     "output_type": "stream",
     "text": [
      "[[1 2 3]\n",
      " [4 5 6]\n",
      " [7 8 9]]\n",
      "\n",
      "[[1 4 7]\n",
      " [2 5 8]\n",
      " [3 6 9]]\n"
     ]
    }
   ],
   "source": [
    "#10.transpose\n",
    "import numpy as np\n",
    " \n",
    "# making a 3x3 array\n",
    "gfg = np.array([[1, 2, 3],\n",
    "                [4, 5, 6],\n",
    "                [7, 8, 9]])\n",
    " \n",
    "# before transpose\n",
    "print(gfg, end ='\\n\\n')\n",
    " \n",
    "# after transpose\n",
    "print(gfg.transpose())"
   ]
  },
  {
   "cell_type": "code",
   "execution_count": 12,
   "id": "d6822fbf-8934-4a61-8912-115f36287a6f",
   "metadata": {},
   "outputs": [
    {
     "name": "stdout",
     "output_type": "stream",
     "text": [
      "[[  1   4   9  16]\n",
      " [ 25  36  49  64]\n",
      " [ 81 100 121 144]]\n",
      "[38, 44, 50, 56]\n",
      "[98, 116, 134, 152]\n",
      "[158, 188, 218, 248]\n",
      "[2, 4, 6]\n",
      "[10, 12, 14]\n",
      "[18, 20, 22]\n",
      "1st Input array :  [[ 1  2  3  4]\n",
      " [ 5  6  7  8]\n",
      " [ 9 10 11 12]]\n",
      "2nd Input array :  [[ 1  2  3  4]\n",
      " [ 5  6  7  8]\n",
      " [ 9 10 11 12]]\n",
      "Output array:  [[0 0 0 0]\n",
      " [0 0 0 0]\n",
      " [0 0 0 0]]\n",
      "arr1         :  [2, 27, 2, 21, 23]\n",
      "arr2         :  [2, 3, 4, 5, 6]\n",
      "\n",
      "Output array : \n",
      " [1.         9.         0.5        4.2        3.83333333]\n"
     ]
    }
   ],
   "source": [
    "#11.1.imultiplication\n",
    "import numpy as np\n",
    "\n",
    "a1 = np.array([[1, 2, 3, 4], [5, 6, 7, 8], [9, 10, 11, 12]])\n",
    "a2 = np.array([[1, 2, 3, 4], [5, 6, 7, 8], [9, 10, 11, 12]])\n",
    "\n",
    "print(np.multiply(a1, a2))\n",
    "\n",
    "\n",
    "#2.matrix multiplication\n",
    "# Program to multiply two matrices using nested loops\n",
    "\n",
    "# 3x3 matrix\n",
    "X = [[1,2,3,4],\n",
    "    [5,6,7,8],\n",
    "    [9,10,11,12]]\n",
    "# 3x4 matrix\n",
    "Y = [[1,2,3,4],\n",
    "    [5,6,7,8],\n",
    "    [9,10,11,12]]\n",
    "# result is 3x4\n",
    "result = [[0,0,0,0],\n",
    "         [0,0,0,0],\n",
    "         [0,0,0,0]]\n",
    "\n",
    "# iterate through rows of X\n",
    "for i in range(len(X)):\n",
    "   # iterate through columns of Y\n",
    "   for j in range(len(Y[0])):\n",
    "       # iterate through rows of Y\n",
    "       for k in range(len(Y)):\n",
    "           result[i][j] += X[i][k] * Y[k][j]\n",
    "\n",
    "for r in result:\n",
    "   print(r)\n",
    "\n",
    "\n",
    "#3.add two matrix\n",
    "X = [[1,2,3],\n",
    "    [5,6,7],\n",
    "    [9,10,11]]\n",
    "\n",
    "Y = [[1,2,3],\n",
    "    [5,6,7],\n",
    "    [9,10,11]]\n",
    "\n",
    "\n",
    "result = [[0,0,0],\n",
    "        [0,0,0],\n",
    "        [0,0,0]]\n",
    "\n",
    "# iterate through rows\n",
    "for i in range(len(X)):   \n",
    "# iterate through columns\n",
    "    for j in range(len(X[0])):\n",
    "        result[i][j] = X[i][j] + Y[i][j]\n",
    "\n",
    "for r in result:\n",
    "    print(r)\n",
    "    \n",
    "    \n",
    "#4.SUBRACT\n",
    "# Python program explaining\n",
    "# numpy.subtract() function\n",
    " \n",
    "import numpy as geek\n",
    " \n",
    "in_arr1 = geek.array([[1,2,3,4], [5,6,7,8], [9,10,11,12]])\n",
    "in_arr2 = geek.array([[1,2,3,4], [5,6,7,8], [9,10,11,12]])\n",
    "  \n",
    "print (\"1st Input array : \", in_arr1)\n",
    "print (\"2nd Input array : \", in_arr2)\n",
    "  \n",
    "   \n",
    "out_arr = geek.subtract(in_arr1, in_arr2) \n",
    "print (\"Output array: \", out_arr) \n",
    "\n",
    "\n",
    "\n",
    "#5.divide\n",
    "import numpy as np \n",
    "  \n",
    "# input_array \n",
    "arr1 = [2, 27, 2, 21, 23] \n",
    "arr2 = [2, 3, 4, 5, 6] \n",
    "print (\"arr1         : \", arr1) \n",
    "print (\"arr2         : \", arr2) \n",
    "  \n",
    "# output_array \n",
    "out = np.divide(arr1, arr2) \n",
    "print (\"\\nOutput array : \\n\", out)\n"
   ]
  },
  {
   "cell_type": "code",
   "execution_count": 13,
   "id": "13cde7e7-1244-434b-b838-698f3cb81ac6",
   "metadata": {},
   "outputs": [
    {
     "name": "stdout",
     "output_type": "stream",
     "text": [
      "[  256     1 25600]\n"
     ]
    }
   ],
   "source": [
    "#12.\n",
    "'''The ndarray.byteswap() method swaps the bytes of the array elements.\n",
    "It toggles between low-endian and big-endian data representation by returning a byteswapped array, optionally swapped in-place.\n",
    "\n",
    "Note: byteswap() method does not work on arrays of strings.'''\n",
    "\n",
    "#Example\n",
    "# Python program explaining  \n",
    "# byteswap() function  \n",
    "import numpy as geek \n",
    "  \n",
    "# a is an array of integers. \n",
    "a = geek.array([1, 256, 100], dtype = np.int16) \n",
    "   \n",
    "print(a.byteswap(True)) "
   ]
  },
  {
   "cell_type": "code",
   "execution_count": 19,
   "id": "3c6c9ad2-a7d4-4697-b29c-6adec99a4a76",
   "metadata": {},
   "outputs": [
    {
     "name": "stdout",
     "output_type": "stream",
     "text": [
      "[[1 2]\n",
      " [3 4]]\n",
      "[[-2.   1. ]\n",
      " [ 1.5 -0.5]]\n",
      "[[1.0000000e+00 0.0000000e+00]\n",
      " [8.8817842e-16 1.0000000e+00]]\n"
     ]
    }
   ],
   "source": [
    "#13.\n",
    "'''We use numpy.linalg.inv() function to calculate the inverse of a matrix.\n",
    "The inverse of a matrix is such that if it is multiplied by the original matrix, it results in identity matrix.'''\n",
    "\n",
    "import numpy as np \n",
    "\n",
    "x = np.array([[1,2],[3,4]]) \n",
    "y = np.linalg.inv(x) \n",
    "(print (x) )\n",
    "(print (y) )\n",
    "print( np.dot(x,y))"
   ]
  },
  {
   "cell_type": "code",
   "execution_count": 21,
   "id": "7faafcc4-8ca6-4aa4-8c92-be3b3ce2c110",
   "metadata": {},
   "outputs": [
    {
     "name": "stdout",
     "output_type": "stream",
     "text": [
      "Original array : \n",
      " [0 1 2 3 4 5 6 7]\n",
      "\n",
      "array reshaped with 2 rows and 4 columns : \n",
      " [[0 1 2 3]\n",
      " [4 5 6 7]]\n",
      "\n",
      "array reshaped with 4 rows and 2 columns : \n",
      " [[0 1]\n",
      " [2 3]\n",
      " [4 5]\n",
      " [6 7]]\n",
      "\n",
      "Original array reshaped to 3D : \n",
      " [[[0 1]\n",
      "  [2 3]]\n",
      "\n",
      " [[4 5]\n",
      "  [6 7]]]\n"
     ]
    }
   ],
   "source": [
    "#14.\n",
    "'''The numpy.reshape() function shapes an array without changing the data of the array.'''\n",
    "# numpy.reshape() method \n",
    "  \n",
    "import numpy as geek \n",
    "  \n",
    "# array = geek.arrange(8)  \n",
    "# The 'numpy' module has no attribute 'arrange' \n",
    "array1 = geek.arange(8) \n",
    "print(\"Original array : \\n\", array1) \n",
    "  \n",
    "# shape array with 2 rows and 4 columns \n",
    "array2 = geek.arange(8).reshape(2, 4) \n",
    "print(\"\\narray reshaped with 2 rows and 4 columns : \\n\",  \n",
    "      array2) \n",
    "  \n",
    "# shape array with 4 rows and 2 columns \n",
    "array3 = geek.arange(8).reshape(4, 2) \n",
    "print(\"\\narray reshaped with 4 rows and 2 columns : \\n\", \n",
    "      array3) \n",
    "  \n",
    "# Constructs 3D array \n",
    "array4 = geek.arange(8).reshape(2, 2, 2) \n",
    "print(\"\\nOriginal array reshaped to 3D : \\n\", \n",
    "      array4) "
   ]
  },
  {
   "cell_type": "code",
   "execution_count": 22,
   "id": "35f52784-bedf-46bc-9e5b-3529f722bfcc",
   "metadata": {},
   "outputs": [
    {
     "name": "stdout",
     "output_type": "stream",
     "text": [
      "[450 350   0  30]\n"
     ]
    }
   ],
   "source": [
    "#15.\n",
    "'''Broadcasting provides a means of vectorizing array operations, therefore eliminating the need for Python loops.\n",
    "This is because NumPy is implemented in C Programming, which is a very efficient language.\n",
    "\n",
    "It does this without making needless copies of data which leads to efficient algorithm implementations.\n",
    "But broadcasting over multiple arrays in NumPy extension can raise cases where\n",
    "broadcasting is a bad idea because it leads to inefficient use of memory that slows down the computation.\n",
    "\n",
    "The resulting array returned after broadcasting will have the same number of dimensions \n",
    "as the array with the greatest number of dimensions.'''\n",
    "import numpy as np \n",
    "  \n",
    "a = np.array([5, 7, 3, 1]) \n",
    "b = np.array([90, 50, 0, 30]) \n",
    "  \n",
    "# array are compatible because of same Dimension \n",
    "c = a * b \n",
    "print(c) \n"
   ]
  },
  {
   "cell_type": "markdown",
   "id": "07032b93-e57b-44e1-b367-633d79ca99c3",
   "metadata": {},
   "source": [
    "      ********************THANK YOU*****************"
   ]
  }
 ],
 "metadata": {
  "kernelspec": {
   "display_name": "Python 3 (ipykernel)",
   "language": "python",
   "name": "python3"
  },
  "language_info": {
   "codemirror_mode": {
    "name": "ipython",
    "version": 3
   },
   "file_extension": ".py",
   "mimetype": "text/x-python",
   "name": "python",
   "nbconvert_exporter": "python",
   "pygments_lexer": "ipython3",
   "version": "3.10.8"
  }
 },
 "nbformat": 4,
 "nbformat_minor": 5
}
